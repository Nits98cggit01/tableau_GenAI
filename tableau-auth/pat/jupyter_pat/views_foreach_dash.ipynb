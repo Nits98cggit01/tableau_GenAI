{
 "cells": [
  {
   "cell_type": "code",
   "execution_count": 22,
   "id": "3042fdb6",
   "metadata": {},
   "outputs": [
    {
     "name": "stdout",
     "output_type": "stream",
     "text": [
      "Requirement already satisfied: tableauserverclient in c:\\users\\nitins\\anaconda3\\lib\\site-packages (0.31)\n",
      "Requirement already satisfied: typing-extensions>=4.0.1 in c:\\users\\nitins\\anaconda3\\lib\\site-packages (from tableauserverclient) (4.10.0)\n",
      "Requirement already satisfied: packaging>=23.1 in c:\\users\\nitins\\anaconda3\\lib\\site-packages (from tableauserverclient) (23.2)\n",
      "Requirement already satisfied: defusedxml>=0.7.1 in c:\\users\\nitins\\anaconda3\\lib\\site-packages (from tableauserverclient) (0.7.1)\n",
      "Requirement already satisfied: requests>=2.31 in c:\\users\\nitins\\anaconda3\\lib\\site-packages (from tableauserverclient) (2.32.3)\n",
      "Requirement already satisfied: urllib3==2.0.7 in c:\\users\\nitins\\anaconda3\\lib\\site-packages (from tableauserverclient) (2.0.7)\n",
      "Requirement already satisfied: certifi>=2017.4.17 in c:\\users\\nitins\\anaconda3\\lib\\site-packages (from requests>=2.31->tableauserverclient) (2022.9.14)\n",
      "Requirement already satisfied: charset-normalizer<4,>=2 in c:\\users\\nitins\\anaconda3\\lib\\site-packages (from requests>=2.31->tableauserverclient) (2.0.4)\n",
      "Requirement already satisfied: idna<4,>=2.5 in c:\\users\\nitins\\anaconda3\\lib\\site-packages (from requests>=2.31->tableauserverclient) (3.3)\n",
      "Note: you may need to restart the kernel to use updated packages.\n"
     ]
    }
   ],
   "source": [
    "pip install tableauserverclient"
   ]
  },
  {
   "cell_type": "code",
   "execution_count": 51,
   "id": "033e5844",
   "metadata": {},
   "outputs": [],
   "source": [
    "from tableau_api_lib import TableauServerConnection\n",
    "from tableau_api_lib.utils import querying, flatten_dict_column\n",
    "import pandas as pd\n",
    "from typing import List\n",
    "import json\n",
    "import tableauserverclient as TSC"
   ]
  },
  {
   "cell_type": "code",
   "execution_count": 83,
   "id": "34ed6053",
   "metadata": {},
   "outputs": [],
   "source": [
    "config = {\n",
    "    \"tableau-server\" : {\n",
    "        \"server\" : 'http://10.100.252.218/',\n",
    "        \"api_version\" : \"3.19\",\n",
    "        \"personal_access_token_name\" : \"rest_token\",\n",
    "        \"personal_access_token_secret\" : \"zL6zdQRgS9WQYH24aGR4JQ==:7yDTI0BCA6XlNxOm24YDN6S3B6673Nyn\",\n",
    "        \"site_name\" : \"890Portal\",\n",
    "        \"site_url\" : \"890Portal\"\n",
    "    }\n",
    "}"
   ]
  },
  {
   "cell_type": "code",
   "execution_count": 87,
   "id": "78e0c8cd",
   "metadata": {},
   "outputs": [],
   "source": [
    "server_url = 'http://10.100.252.218/'\n",
    "personal_access_token_name = \"rest_token\"\n",
    "personal_access_token_secret = \"zL6zdQRgS9WQYH24aGR4JQ==:7yDTI0BCA6XlNxOm24YDN6S3B6673Nyn\"\n",
    "site_id = \"890Portal\"\n",
    "tableau_auth = TSC.PersonalAccessTokenAuth(personal_access_token_name, personal_access_token_secret, site_id)\n",
    "server = TSC.Server(server_url, use_server_version=True)"
   ]
  },
  {
   "cell_type": "code",
   "execution_count": 84,
   "id": "b06e5439",
   "metadata": {},
   "outputs": [],
   "source": [
    "conn = TableauServerConnection(config_json=config,env=\"tableau-server\")"
   ]
  },
  {
   "cell_type": "code",
   "execution_count": 85,
   "id": "4851b345",
   "metadata": {},
   "outputs": [],
   "source": [
    "response = conn.sign_in()"
   ]
  },
  {
   "cell_type": "code",
   "execution_count": 86,
   "id": "b8d0e4b9",
   "metadata": {},
   "outputs": [
    {
     "data": {
      "text/plain": [
       "<Response [200]>"
      ]
     },
     "execution_count": 86,
     "metadata": {},
     "output_type": "execute_result"
    }
   ],
   "source": [
    "response"
   ]
  },
  {
   "cell_type": "code",
   "execution_count": 105,
   "id": "ee875b2f",
   "metadata": {},
   "outputs": [],
   "source": [
    "dashid = '2aa1661d-6f16-43fc-892d-cd601098cfb7'"
   ]
  },
  {
   "cell_type": "code",
   "execution_count": 106,
   "id": "8874b4ac",
   "metadata": {},
   "outputs": [],
   "source": [
    "view_png = conn.query_view_image(view_id=dashid)"
   ]
  },
  {
   "cell_type": "code",
   "execution_count": 107,
   "id": "74c24aff",
   "metadata": {},
   "outputs": [],
   "source": [
    "with open('Sample1.png','wb') as v:\n",
    "    v.write(view_png.content)"
   ]
  },
  {
   "cell_type": "code",
   "execution_count": null,
   "id": "33b3b2be",
   "metadata": {},
   "outputs": [],
   "source": [
    "view_types = []\n",
    "\n",
    "# Iterate over each view to fetch detailed view information\n",
    "for _, row in views_df.iterrows():\n",
    "    view_id = row['id']\n",
    "    try:\n",
    "        view_details = get_view(conn, view_id)\n",
    "        # Extract specific view type information\n",
    "        view_type = view_details['view']['viewType'] if 'viewType' in view_details['view'] else 'Unknown'\n",
    "        view_types.append(view_type)\n",
    "    except Exception as e:\n",
    "        print(f\"Error fetching details for view ID {view_id}: {e}\")\n",
    "        view_types.append('Unknown')\n",
    "\n",
    "# Append the detailed view type to the DataFrame\n",
    "views_df['view_type'] = view_types\n"
   ]
  },
  {
   "cell_type": "code",
   "execution_count": 41,
   "id": "7e3b40b9",
   "metadata": {},
   "outputs": [],
   "source": [
    "server_url = 'http://10.100.252.218/'\n",
    "personal_access_token_name = \"rest_token\"\n",
    "personal_access_token_secret = \"zL6zdQRgS9WQYH24aGR4JQ==:7yDTI0BCA6XlNxOm24YDN6S3B6673Nyn\"\n",
    "site_id = \"890Portal\"\n",
    "tableau_auth = TSC.PersonalAccessTokenAuth(personal_access_token_name, personal_access_token_secret, site_id)\n",
    "server = TSC.Server(server_url, use_server_version=True)"
   ]
  },
  {
   "cell_type": "code",
   "execution_count": 42,
   "id": "43cc19c7",
   "metadata": {},
   "outputs": [
    {
     "name": "stdout",
     "output_type": "stream",
     "text": [
      "<TableauServerClient [Connection: http://10.100.252.218//api/3.19, ServerInfoItem: [product version: 2023.1.11, build no.:20231.24.0312.1557, REST API version:3.19]]>\n"
     ]
    }
   ],
   "source": [
    "print(server)"
   ]
  },
  {
   "cell_type": "code",
   "execution_count": 46,
   "id": "acf5320c",
   "metadata": {},
   "outputs": [
    {
     "name": "stdout",
     "output_type": "stream",
     "text": [
      "viewName : Dashboard 1\n"
     ]
    }
   ],
   "source": [
    "with server.auth.sign_in(tableau_auth):\n",
    "    # Get the list of all views to find the desired view\n",
    "    all_views, pagination_item = server.views.get()\n",
    "#     print(f'All views : {all_views}')\n",
    "    viewId = '25d485af-bfc4-4451-9fbb-661888b37ff7'\n",
    "    viewName = 'Dashboard 1'\n",
    "    for view in all_views:\n",
    "        if view.name == viewName:\n",
    "            view_id = view.id\n",
    "            break\n",
    "\n",
    "    if viewName is not None:\n",
    "        print(f'viewName : {viewName}')\n",
    "        "
   ]
  },
  {
   "cell_type": "code",
   "execution_count": 7,
   "id": "ac040c16",
   "metadata": {},
   "outputs": [],
   "source": [
    "wk_df = flatten_dict_column(df=wk_df,keys=[\"id\",\"name\"],col_name=\"project\")"
   ]
  },
  {
   "cell_type": "code",
   "execution_count": 15,
   "id": "b6efa760",
   "metadata": {},
   "outputs": [],
   "source": [
    "tgt_wb_df = (\n",
    "    wk_df\n",
    "    .where(wk_df['project_name'] == 'Default')\n",
    "    .where(wk_df['name'] == 'CMO_Dashboard')\n",
    "    .dropna()\n",
    ")"
   ]
  },
  {
   "cell_type": "code",
   "execution_count": 16,
   "id": "321a19e1",
   "metadata": {},
   "outputs": [
    {
     "data": {
      "text/html": [
       "<div>\n",
       "<style scoped>\n",
       "    .dataframe tbody tr th:only-of-type {\n",
       "        vertical-align: middle;\n",
       "    }\n",
       "\n",
       "    .dataframe tbody tr th {\n",
       "        vertical-align: top;\n",
       "    }\n",
       "\n",
       "    .dataframe thead th {\n",
       "        text-align: right;\n",
       "    }\n",
       "</style>\n",
       "<table border=\"1\" class=\"dataframe\">\n",
       "  <thead>\n",
       "    <tr style=\"text-align: right;\">\n",
       "      <th></th>\n",
       "      <th>location</th>\n",
       "      <th>owner</th>\n",
       "      <th>tags</th>\n",
       "      <th>dataAccelerationConfig</th>\n",
       "      <th>id</th>\n",
       "      <th>name</th>\n",
       "      <th>description</th>\n",
       "      <th>contentUrl</th>\n",
       "      <th>webpageUrl</th>\n",
       "      <th>showTabs</th>\n",
       "      <th>size</th>\n",
       "      <th>createdAt</th>\n",
       "      <th>updatedAt</th>\n",
       "      <th>encryptExtracts</th>\n",
       "      <th>defaultViewId</th>\n",
       "      <th>project_id</th>\n",
       "      <th>project_name</th>\n",
       "    </tr>\n",
       "  </thead>\n",
       "  <tbody>\n",
       "    <tr>\n",
       "      <th>1</th>\n",
       "      <td>{'id': 'c02fb59d-885b-4055-bab8-3f1d2e5ac520',...</td>\n",
       "      <td>{'id': '36eebeb5-be56-4cdc-a79c-d65c18ea2f8c',...</td>\n",
       "      <td>{}</td>\n",
       "      <td>{'accelerationEnabled': False}</td>\n",
       "      <td>c4027ef4-71d0-4f5e-a495-959cacc0c689</td>\n",
       "      <td>CMO_Dashboard</td>\n",
       "      <td></td>\n",
       "      <td>CMO_Dashboard</td>\n",
       "      <td>http://EC2AMAZ-IST7KPQ/#/site/890Portal/workbo...</td>\n",
       "      <td>true</td>\n",
       "      <td>1</td>\n",
       "      <td>2020-02-08T08:45:16Z</td>\n",
       "      <td>2020-02-08T08:49:59Z</td>\n",
       "      <td>false</td>\n",
       "      <td>25d485af-bfc4-4451-9fbb-661888b37ff7</td>\n",
       "      <td>c02fb59d-885b-4055-bab8-3f1d2e5ac520</td>\n",
       "      <td>Default</td>\n",
       "    </tr>\n",
       "  </tbody>\n",
       "</table>\n",
       "</div>"
      ],
      "text/plain": [
       "                                            location  \\\n",
       "1  {'id': 'c02fb59d-885b-4055-bab8-3f1d2e5ac520',...   \n",
       "\n",
       "                                               owner tags  \\\n",
       "1  {'id': '36eebeb5-be56-4cdc-a79c-d65c18ea2f8c',...   {}   \n",
       "\n",
       "           dataAccelerationConfig                                    id  \\\n",
       "1  {'accelerationEnabled': False}  c4027ef4-71d0-4f5e-a495-959cacc0c689   \n",
       "\n",
       "            name description     contentUrl  \\\n",
       "1  CMO_Dashboard              CMO_Dashboard   \n",
       "\n",
       "                                          webpageUrl showTabs size  \\\n",
       "1  http://EC2AMAZ-IST7KPQ/#/site/890Portal/workbo...     true    1   \n",
       "\n",
       "              createdAt             updatedAt encryptExtracts  \\\n",
       "1  2020-02-08T08:45:16Z  2020-02-08T08:49:59Z           false   \n",
       "\n",
       "                          defaultViewId                            project_id  \\\n",
       "1  25d485af-bfc4-4451-9fbb-661888b37ff7  c02fb59d-885b-4055-bab8-3f1d2e5ac520   \n",
       "\n",
       "  project_name  \n",
       "1      Default  "
      ]
     },
     "execution_count": 16,
     "metadata": {},
     "output_type": "execute_result"
    }
   ],
   "source": [
    "tgt_wb_df"
   ]
  },
  {
   "cell_type": "code",
   "execution_count": 17,
   "id": "38703f7b",
   "metadata": {},
   "outputs": [],
   "source": [
    "target_view_df = querying.get_views_for_workbook_dataframe(\n",
    "    conn, workbook_id = tgt_wb_df.get('id').to_list().pop()\n",
    ")"
   ]
  },
  {
   "cell_type": "code",
   "execution_count": 18,
   "id": "32f5fd41",
   "metadata": {},
   "outputs": [
    {
     "data": {
      "text/html": [
       "<div>\n",
       "<style scoped>\n",
       "    .dataframe tbody tr th:only-of-type {\n",
       "        vertical-align: middle;\n",
       "    }\n",
       "\n",
       "    .dataframe tbody tr th {\n",
       "        vertical-align: top;\n",
       "    }\n",
       "\n",
       "    .dataframe thead th {\n",
       "        text-align: right;\n",
       "    }\n",
       "</style>\n",
       "<table border=\"1\" class=\"dataframe\">\n",
       "  <thead>\n",
       "    <tr style=\"text-align: right;\">\n",
       "      <th></th>\n",
       "      <th>tags</th>\n",
       "      <th>id</th>\n",
       "      <th>name</th>\n",
       "      <th>contentUrl</th>\n",
       "      <th>createdAt</th>\n",
       "      <th>updatedAt</th>\n",
       "      <th>viewUrlName</th>\n",
       "    </tr>\n",
       "  </thead>\n",
       "  <tbody>\n",
       "    <tr>\n",
       "      <th>0</th>\n",
       "      <td>{}</td>\n",
       "      <td>25d485af-bfc4-4451-9fbb-661888b37ff7</td>\n",
       "      <td>Dashboard 1</td>\n",
       "      <td>CMO_Dashboard/sheets/Dashboard1</td>\n",
       "      <td>2020-02-08T08:45:16Z</td>\n",
       "      <td>2020-02-08T08:49:59Z</td>\n",
       "      <td>Dashboard1</td>\n",
       "    </tr>\n",
       "    <tr>\n",
       "      <th>1</th>\n",
       "      <td>{}</td>\n",
       "      <td>cbcc0b15-9c83-40a6-aea0-6768593ad506</td>\n",
       "      <td>Reach</td>\n",
       "      <td>CMO_Dashboard/sheets/Reach</td>\n",
       "      <td>2020-02-08T08:45:16Z</td>\n",
       "      <td>2020-02-08T08:49:59Z</td>\n",
       "      <td>Reach</td>\n",
       "    </tr>\n",
       "    <tr>\n",
       "      <th>2</th>\n",
       "      <td>{}</td>\n",
       "      <td>2d15e4db-ea02-46ea-ae1c-4b23f43cc890</td>\n",
       "      <td>Promotion Effect</td>\n",
       "      <td>CMO_Dashboard/sheets/PromotionEffect</td>\n",
       "      <td>2020-02-08T08:45:16Z</td>\n",
       "      <td>2020-02-08T08:49:59Z</td>\n",
       "      <td>PromotionEffect</td>\n",
       "    </tr>\n",
       "    <tr>\n",
       "      <th>3</th>\n",
       "      <td>{}</td>\n",
       "      <td>a31a6cc1-104f-4351-bd1a-df62814990b1</td>\n",
       "      <td>Conversion</td>\n",
       "      <td>CMO_Dashboard/sheets/Conversion</td>\n",
       "      <td>2020-02-08T08:45:16Z</td>\n",
       "      <td>2020-02-08T08:49:59Z</td>\n",
       "      <td>Conversion</td>\n",
       "    </tr>\n",
       "    <tr>\n",
       "      <th>4</th>\n",
       "      <td>{}</td>\n",
       "      <td>8cbc3450-ad21-461e-802e-ac82bfac5126</td>\n",
       "      <td>Content</td>\n",
       "      <td>CMO_Dashboard/sheets/Content</td>\n",
       "      <td>2020-02-08T08:45:16Z</td>\n",
       "      <td>2020-02-08T08:49:59Z</td>\n",
       "      <td>Content</td>\n",
       "    </tr>\n",
       "  </tbody>\n",
       "</table>\n",
       "</div>"
      ],
      "text/plain": [
       "  tags                                    id              name  \\\n",
       "0   {}  25d485af-bfc4-4451-9fbb-661888b37ff7       Dashboard 1   \n",
       "1   {}  cbcc0b15-9c83-40a6-aea0-6768593ad506             Reach   \n",
       "2   {}  2d15e4db-ea02-46ea-ae1c-4b23f43cc890  Promotion Effect   \n",
       "3   {}  a31a6cc1-104f-4351-bd1a-df62814990b1        Conversion   \n",
       "4   {}  8cbc3450-ad21-461e-802e-ac82bfac5126           Content   \n",
       "\n",
       "                             contentUrl             createdAt  \\\n",
       "0       CMO_Dashboard/sheets/Dashboard1  2020-02-08T08:45:16Z   \n",
       "1            CMO_Dashboard/sheets/Reach  2020-02-08T08:45:16Z   \n",
       "2  CMO_Dashboard/sheets/PromotionEffect  2020-02-08T08:45:16Z   \n",
       "3       CMO_Dashboard/sheets/Conversion  2020-02-08T08:45:16Z   \n",
       "4          CMO_Dashboard/sheets/Content  2020-02-08T08:45:16Z   \n",
       "\n",
       "              updatedAt      viewUrlName  \n",
       "0  2020-02-08T08:49:59Z       Dashboard1  \n",
       "1  2020-02-08T08:49:59Z            Reach  \n",
       "2  2020-02-08T08:49:59Z  PromotionEffect  \n",
       "3  2020-02-08T08:49:59Z       Conversion  \n",
       "4  2020-02-08T08:49:59Z          Content  "
      ]
     },
     "execution_count": 18,
     "metadata": {},
     "output_type": "execute_result"
    }
   ],
   "source": [
    "target_view_df"
   ]
  },
  {
   "cell_type": "code",
   "execution_count": 12,
   "id": "316900d9",
   "metadata": {},
   "outputs": [],
   "source": [
    "dash_view_name = \"Comparison of People Metrics\""
   ]
  },
  {
   "cell_type": "code",
   "execution_count": 14,
   "id": "c4523532",
   "metadata": {},
   "outputs": [
    {
     "name": "stdout",
     "output_type": "stream",
     "text": [
      "View name :  Cycle Times on Insurance Claim...\n",
      "View name :  Rural/Urban Distribution (2019)...\n",
      "View name :  Promoters vs Detractors (2019)...\n",
      "View name :  Y-o-Y CSAT Comparison...\n",
      "View name :  Y-o-Y NPS Comparison...\n",
      "View name :  Ratio Comparison...\n",
      "View name :  Premium Earned...\n",
      "View name :  Investment Income...\n",
      "View name :  Operating Cost...\n",
      "View name :  Claims Loss...\n",
      "View name :  Fee Income...\n",
      "View name :  Capital Gains...\n",
      "View name :  Total Revenue...\n",
      "View name :  Comparison of Financial Metrics...\n"
     ]
    }
   ],
   "source": [
    "for index, row in target_view_df.iterrows():\n",
    "    if row[\"name\"] != dash_view_name:\n",
    "        print(f'View name :  {row[\"name\"]}...')"
   ]
  },
  {
   "cell_type": "code",
   "execution_count": 47,
   "id": "75a5119a",
   "metadata": {},
   "outputs": [],
   "source": [
    "viewID = 'a28720b9-b2af-42ef-9c7d-a98cd9d1f129'"
   ]
  },
  {
   "cell_type": "code",
   "execution_count": 57,
   "id": "1bc34ac8",
   "metadata": {},
   "outputs": [],
   "source": [
    "ruraldf = querying.get_view_data_dataframe(conn, view_id=viewID)"
   ]
  },
  {
   "cell_type": "code",
   "execution_count": 58,
   "id": "040d8057",
   "metadata": {},
   "outputs": [
    {
     "data": {
      "text/html": [
       "<div>\n",
       "<style scoped>\n",
       "    .dataframe tbody tr th:only-of-type {\n",
       "        vertical-align: middle;\n",
       "    }\n",
       "\n",
       "    .dataframe tbody tr th {\n",
       "        vertical-align: top;\n",
       "    }\n",
       "\n",
       "    .dataframe thead th {\n",
       "        text-align: right;\n",
       "    }\n",
       "</style>\n",
       "<table border=\"1\" class=\"dataframe\">\n",
       "  <thead>\n",
       "    <tr style=\"text-align: right;\">\n",
       "      <th></th>\n",
       "      <th>Urbanicity</th>\n",
       "      <th>Count of Urbanicity</th>\n",
       "    </tr>\n",
       "  </thead>\n",
       "  <tbody>\n",
       "    <tr>\n",
       "      <th>0</th>\n",
       "      <td>Highly Rural/ Rural</td>\n",
       "      <td>1,748</td>\n",
       "    </tr>\n",
       "    <tr>\n",
       "      <th>1</th>\n",
       "      <td>Highly Urban/ Urban</td>\n",
       "      <td>7,005</td>\n",
       "    </tr>\n",
       "  </tbody>\n",
       "</table>\n",
       "</div>"
      ],
      "text/plain": [
       "            Urbanicity Count of Urbanicity\n",
       "0  Highly Rural/ Rural               1,748\n",
       "1  Highly Urban/ Urban               7,005"
      ]
     },
     "execution_count": 58,
     "metadata": {},
     "output_type": "execute_result"
    }
   ],
   "source": [
    "ruraldf"
   ]
  },
  {
   "cell_type": "code",
   "execution_count": null,
   "id": "7ca77317",
   "metadata": {},
   "outputs": [],
   "source": []
  },
  {
   "cell_type": "code",
   "execution_count": null,
   "id": "cf1029d1",
   "metadata": {},
   "outputs": [],
   "source": []
  },
  {
   "cell_type": "code",
   "execution_count": 80,
   "id": "94302c1e",
   "metadata": {},
   "outputs": [],
   "source": [
    "import os\n",
    "import pandas as pd\n",
    "from tableau_api_lib import TableauServerConnection\n",
    "from tableau_api_lib.utils.querying import get_views_dataframe\n",
    "import json\n",
    "import requests\n",
    "from xml.etree import ElementTree as ET"
   ]
  },
  {
   "cell_type": "code",
   "execution_count": 81,
   "id": "e1fece63",
   "metadata": {},
   "outputs": [],
   "source": [
    "def get_view_details(conn, view_id):\n",
    "    # Function to get detailed view information using Tableau REST API\n",
    "    server = conn.server\n",
    "    site_id = conn.site_id\n",
    "    auth_token = conn.auth_token\n",
    "\n",
    "    url = f\"{server}/api/{conn.api_version}/sites/{site_id}/views/{view_id}\"\n",
    "    headers = {\n",
    "        'Accept': 'application/json',\n",
    "        'X-Tableau-Auth': auth_token\n",
    "    }\n",
    "\n",
    "    response = requests.get(url, headers=headers)\n",
    "    if response.status_code == 200:\n",
    "        return response.json()\n",
    "    else:\n",
    "        raise Exception(f\"Failed to get view details for view ID {view_id}: {response.text}\")\n",
    "\n",
    "def get_workbook_content(conn, workbook_id):\n",
    "    # Function to get workbook content using Tableau REST API\n",
    "    server = conn.server\n",
    "    site_id = conn.site_id\n",
    "    auth_token = conn.auth_token\n",
    "\n",
    "    url = f\"{server}/api/{conn.api_version}/sites/{site_id}/workbooks/{workbook_id}/connections\"\n",
    "    headers = {\n",
    "        'Accept': 'application/json',\n",
    "        'X-Tableau-Auth': auth_token\n",
    "    }\n",
    "\n",
    "    response = requests.get(url, headers=headers)\n",
    "    if response.status_code == 200:\n",
    "        return response.json()\n",
    "    else:\n",
    "        raise Exception(f\"Failed to get workbook content for workbook ID {workbook_id}: {response.text}\")\n",
    "\n",
    "def extract_chart_type(view_metadata):\n",
    "    # Extract chart type from view metadata\n",
    "    # Note: This might not be straightforward. Chart type information may need to be extracted differently\n",
    "    # from the Tableau API. This is a placeholder for actual implementation.\n",
    "    try:\n",
    "        chart_type = view_metadata['view']['contentUrl'].split('/')[-1]\n",
    "    except KeyError:\n",
    "        chart_type = 'Unknown'\n",
    "    return chart_type"
   ]
  },
  {
   "cell_type": "code",
   "execution_count": 67,
   "id": "76cc70ee",
   "metadata": {},
   "outputs": [],
   "source": [
    "views_df = get_views_dataframe(conn)"
   ]
  },
  {
   "cell_type": "code",
   "execution_count": 74,
   "id": "7d66d5de",
   "metadata": {},
   "outputs": [],
   "source": [
    "views_df = flatten_workbook_column(views_df)\n",
    "\n",
    "# List to store detailed view type info\n",
    "view_types = []\n",
    "chart_types = []"
   ]
  },
  {
   "cell_type": "code",
   "execution_count": 82,
   "id": "c4eb8485",
   "metadata": {},
   "outputs": [
    {
     "name": "stdout",
     "output_type": "stream",
     "text": [
      "Error fetching details for view ID 6047b331-14cc-485b-a6a8-eeebdfd7f03a: Failed to get workbook content for workbook ID : {\"error\":{\"summary\":\"Resource Not Found\",\"detail\":\"Workbook 'connections' could not be found.\",\"code\":\"404006\"}}\n",
      "Error fetching details for view ID c61b802a-8a5d-49fe-a6f9-91eb6e4ceea3: Failed to get workbook content for workbook ID : {\"error\":{\"summary\":\"Resource Not Found\",\"detail\":\"Workbook 'connections' could not be found.\",\"code\":\"404006\"}}\n",
      "Error fetching details for view ID 608163b1-d010-4514-9277-f693d8c64b26: Failed to get workbook content for workbook ID : {\"error\":{\"summary\":\"Resource Not Found\",\"detail\":\"Workbook 'connections' could not be found.\",\"code\":\"404006\"}}\n",
      "Error fetching details for view ID 25d485af-bfc4-4451-9fbb-661888b37ff7: Failed to get workbook content for workbook ID : {\"error\":{\"summary\":\"Resource Not Found\",\"detail\":\"Workbook 'connections' could not be found.\",\"code\":\"404006\"}}\n",
      "Error fetching details for view ID cbcc0b15-9c83-40a6-aea0-6768593ad506: Failed to get workbook content for workbook ID : {\"error\":{\"summary\":\"Resource Not Found\",\"detail\":\"Workbook 'connections' could not be found.\",\"code\":\"404006\"}}\n",
      "Error fetching details for view ID 2d15e4db-ea02-46ea-ae1c-4b23f43cc890: Failed to get workbook content for workbook ID : {\"error\":{\"summary\":\"Resource Not Found\",\"detail\":\"Workbook 'connections' could not be found.\",\"code\":\"404006\"}}\n",
      "Error fetching details for view ID a31a6cc1-104f-4351-bd1a-df62814990b1: Failed to get workbook content for workbook ID : {\"error\":{\"summary\":\"Resource Not Found\",\"detail\":\"Workbook 'connections' could not be found.\",\"code\":\"404006\"}}\n"
     ]
    },
    {
     "ename": "KeyboardInterrupt",
     "evalue": "",
     "output_type": "error",
     "traceback": [
      "\u001b[1;31m---------------------------------------------------------------------------\u001b[0m",
      "\u001b[1;31mKeyboardInterrupt\u001b[0m                         Traceback (most recent call last)",
      "\u001b[1;32m~\\AppData\\Local\\Temp\\ipykernel_23608\\3023102742.py\u001b[0m in \u001b[0;36m<module>\u001b[1;34m\u001b[0m\n\u001b[0;32m      3\u001b[0m     \u001b[0mworkbook_id\u001b[0m \u001b[1;33m=\u001b[0m \u001b[0mrow\u001b[0m\u001b[1;33m[\u001b[0m\u001b[1;34m'workbook_id'\u001b[0m\u001b[1;33m]\u001b[0m\u001b[1;33m\u001b[0m\u001b[1;33m\u001b[0m\u001b[0m\n\u001b[0;32m      4\u001b[0m     \u001b[1;32mtry\u001b[0m\u001b[1;33m:\u001b[0m\u001b[1;33m\u001b[0m\u001b[1;33m\u001b[0m\u001b[0m\n\u001b[1;32m----> 5\u001b[1;33m         \u001b[0mview_details\u001b[0m \u001b[1;33m=\u001b[0m \u001b[0mget_view_details\u001b[0m\u001b[1;33m(\u001b[0m\u001b[0mconn\u001b[0m\u001b[1;33m,\u001b[0m \u001b[0mview_id\u001b[0m\u001b[1;33m)\u001b[0m\u001b[1;33m\u001b[0m\u001b[1;33m\u001b[0m\u001b[0m\n\u001b[0m\u001b[0;32m      6\u001b[0m         \u001b[0mworkbook_content\u001b[0m \u001b[1;33m=\u001b[0m \u001b[0mget_workbook_content\u001b[0m\u001b[1;33m(\u001b[0m\u001b[0mconn\u001b[0m\u001b[1;33m,\u001b[0m \u001b[0mworkbook_id\u001b[0m\u001b[1;33m)\u001b[0m\u001b[1;33m\u001b[0m\u001b[1;33m\u001b[0m\u001b[0m\n\u001b[0;32m      7\u001b[0m         \u001b[1;31m# Extract specific chart type information\u001b[0m\u001b[1;33m\u001b[0m\u001b[1;33m\u001b[0m\u001b[0m\n",
      "\u001b[1;32m~\\AppData\\Local\\Temp\\ipykernel_23608\\1151469741.py\u001b[0m in \u001b[0;36mget_view_details\u001b[1;34m(conn, view_id)\u001b[0m\n\u001b[0;32m     11\u001b[0m     }\n\u001b[0;32m     12\u001b[0m \u001b[1;33m\u001b[0m\u001b[0m\n\u001b[1;32m---> 13\u001b[1;33m     \u001b[0mresponse\u001b[0m \u001b[1;33m=\u001b[0m \u001b[0mrequests\u001b[0m\u001b[1;33m.\u001b[0m\u001b[0mget\u001b[0m\u001b[1;33m(\u001b[0m\u001b[0murl\u001b[0m\u001b[1;33m,\u001b[0m \u001b[0mheaders\u001b[0m\u001b[1;33m=\u001b[0m\u001b[0mheaders\u001b[0m\u001b[1;33m)\u001b[0m\u001b[1;33m\u001b[0m\u001b[1;33m\u001b[0m\u001b[0m\n\u001b[0m\u001b[0;32m     14\u001b[0m     \u001b[1;32mif\u001b[0m \u001b[0mresponse\u001b[0m\u001b[1;33m.\u001b[0m\u001b[0mstatus_code\u001b[0m \u001b[1;33m==\u001b[0m \u001b[1;36m200\u001b[0m\u001b[1;33m:\u001b[0m\u001b[1;33m\u001b[0m\u001b[1;33m\u001b[0m\u001b[0m\n\u001b[0;32m     15\u001b[0m         \u001b[1;32mreturn\u001b[0m \u001b[0mresponse\u001b[0m\u001b[1;33m.\u001b[0m\u001b[0mjson\u001b[0m\u001b[1;33m(\u001b[0m\u001b[1;33m)\u001b[0m\u001b[1;33m\u001b[0m\u001b[1;33m\u001b[0m\u001b[0m\n",
      "\u001b[1;32m~\\Anaconda3\\lib\\site-packages\\requests\\api.py\u001b[0m in \u001b[0;36mget\u001b[1;34m(url, params, **kwargs)\u001b[0m\n\u001b[0;32m     71\u001b[0m     \"\"\"\n\u001b[0;32m     72\u001b[0m \u001b[1;33m\u001b[0m\u001b[0m\n\u001b[1;32m---> 73\u001b[1;33m     \u001b[1;32mreturn\u001b[0m \u001b[0mrequest\u001b[0m\u001b[1;33m(\u001b[0m\u001b[1;34m\"get\"\u001b[0m\u001b[1;33m,\u001b[0m \u001b[0murl\u001b[0m\u001b[1;33m,\u001b[0m \u001b[0mparams\u001b[0m\u001b[1;33m=\u001b[0m\u001b[0mparams\u001b[0m\u001b[1;33m,\u001b[0m \u001b[1;33m**\u001b[0m\u001b[0mkwargs\u001b[0m\u001b[1;33m)\u001b[0m\u001b[1;33m\u001b[0m\u001b[1;33m\u001b[0m\u001b[0m\n\u001b[0m\u001b[0;32m     74\u001b[0m \u001b[1;33m\u001b[0m\u001b[0m\n\u001b[0;32m     75\u001b[0m \u001b[1;33m\u001b[0m\u001b[0m\n",
      "\u001b[1;32m~\\Anaconda3\\lib\\site-packages\\requests\\api.py\u001b[0m in \u001b[0;36mrequest\u001b[1;34m(method, url, **kwargs)\u001b[0m\n\u001b[0;32m     57\u001b[0m     \u001b[1;31m# cases, and look like a memory leak in others.\u001b[0m\u001b[1;33m\u001b[0m\u001b[1;33m\u001b[0m\u001b[0m\n\u001b[0;32m     58\u001b[0m     \u001b[1;32mwith\u001b[0m \u001b[0msessions\u001b[0m\u001b[1;33m.\u001b[0m\u001b[0mSession\u001b[0m\u001b[1;33m(\u001b[0m\u001b[1;33m)\u001b[0m \u001b[1;32mas\u001b[0m \u001b[0msession\u001b[0m\u001b[1;33m:\u001b[0m\u001b[1;33m\u001b[0m\u001b[1;33m\u001b[0m\u001b[0m\n\u001b[1;32m---> 59\u001b[1;33m         \u001b[1;32mreturn\u001b[0m \u001b[0msession\u001b[0m\u001b[1;33m.\u001b[0m\u001b[0mrequest\u001b[0m\u001b[1;33m(\u001b[0m\u001b[0mmethod\u001b[0m\u001b[1;33m=\u001b[0m\u001b[0mmethod\u001b[0m\u001b[1;33m,\u001b[0m \u001b[0murl\u001b[0m\u001b[1;33m=\u001b[0m\u001b[0murl\u001b[0m\u001b[1;33m,\u001b[0m \u001b[1;33m**\u001b[0m\u001b[0mkwargs\u001b[0m\u001b[1;33m)\u001b[0m\u001b[1;33m\u001b[0m\u001b[1;33m\u001b[0m\u001b[0m\n\u001b[0m\u001b[0;32m     60\u001b[0m \u001b[1;33m\u001b[0m\u001b[0m\n\u001b[0;32m     61\u001b[0m \u001b[1;33m\u001b[0m\u001b[0m\n",
      "\u001b[1;32m~\\Anaconda3\\lib\\site-packages\\requests\\sessions.py\u001b[0m in \u001b[0;36mrequest\u001b[1;34m(self, method, url, params, data, headers, cookies, files, auth, timeout, allow_redirects, proxies, hooks, stream, verify, cert, json)\u001b[0m\n\u001b[0;32m    587\u001b[0m         }\n\u001b[0;32m    588\u001b[0m         \u001b[0msend_kwargs\u001b[0m\u001b[1;33m.\u001b[0m\u001b[0mupdate\u001b[0m\u001b[1;33m(\u001b[0m\u001b[0msettings\u001b[0m\u001b[1;33m)\u001b[0m\u001b[1;33m\u001b[0m\u001b[1;33m\u001b[0m\u001b[0m\n\u001b[1;32m--> 589\u001b[1;33m         \u001b[0mresp\u001b[0m \u001b[1;33m=\u001b[0m \u001b[0mself\u001b[0m\u001b[1;33m.\u001b[0m\u001b[0msend\u001b[0m\u001b[1;33m(\u001b[0m\u001b[0mprep\u001b[0m\u001b[1;33m,\u001b[0m \u001b[1;33m**\u001b[0m\u001b[0msend_kwargs\u001b[0m\u001b[1;33m)\u001b[0m\u001b[1;33m\u001b[0m\u001b[1;33m\u001b[0m\u001b[0m\n\u001b[0m\u001b[0;32m    590\u001b[0m \u001b[1;33m\u001b[0m\u001b[0m\n\u001b[0;32m    591\u001b[0m         \u001b[1;32mreturn\u001b[0m \u001b[0mresp\u001b[0m\u001b[1;33m\u001b[0m\u001b[1;33m\u001b[0m\u001b[0m\n",
      "\u001b[1;32m~\\Anaconda3\\lib\\site-packages\\requests\\sessions.py\u001b[0m in \u001b[0;36msend\u001b[1;34m(self, request, **kwargs)\u001b[0m\n\u001b[0;32m    701\u001b[0m \u001b[1;33m\u001b[0m\u001b[0m\n\u001b[0;32m    702\u001b[0m         \u001b[1;31m# Send the request\u001b[0m\u001b[1;33m\u001b[0m\u001b[1;33m\u001b[0m\u001b[0m\n\u001b[1;32m--> 703\u001b[1;33m         \u001b[0mr\u001b[0m \u001b[1;33m=\u001b[0m \u001b[0madapter\u001b[0m\u001b[1;33m.\u001b[0m\u001b[0msend\u001b[0m\u001b[1;33m(\u001b[0m\u001b[0mrequest\u001b[0m\u001b[1;33m,\u001b[0m \u001b[1;33m**\u001b[0m\u001b[0mkwargs\u001b[0m\u001b[1;33m)\u001b[0m\u001b[1;33m\u001b[0m\u001b[1;33m\u001b[0m\u001b[0m\n\u001b[0m\u001b[0;32m    704\u001b[0m \u001b[1;33m\u001b[0m\u001b[0m\n\u001b[0;32m    705\u001b[0m         \u001b[1;31m# Total elapsed time of the request (approximately)\u001b[0m\u001b[1;33m\u001b[0m\u001b[1;33m\u001b[0m\u001b[0m\n",
      "\u001b[1;32m~\\Anaconda3\\lib\\site-packages\\requests\\adapters.py\u001b[0m in \u001b[0;36msend\u001b[1;34m(self, request, stream, timeout, verify, cert, proxies)\u001b[0m\n\u001b[0;32m    665\u001b[0m \u001b[1;33m\u001b[0m\u001b[0m\n\u001b[0;32m    666\u001b[0m         \u001b[1;32mtry\u001b[0m\u001b[1;33m:\u001b[0m\u001b[1;33m\u001b[0m\u001b[1;33m\u001b[0m\u001b[0m\n\u001b[1;32m--> 667\u001b[1;33m             resp = conn.urlopen(\n\u001b[0m\u001b[0;32m    668\u001b[0m                 \u001b[0mmethod\u001b[0m\u001b[1;33m=\u001b[0m\u001b[0mrequest\u001b[0m\u001b[1;33m.\u001b[0m\u001b[0mmethod\u001b[0m\u001b[1;33m,\u001b[0m\u001b[1;33m\u001b[0m\u001b[1;33m\u001b[0m\u001b[0m\n\u001b[0;32m    669\u001b[0m                 \u001b[0murl\u001b[0m\u001b[1;33m=\u001b[0m\u001b[0murl\u001b[0m\u001b[1;33m,\u001b[0m\u001b[1;33m\u001b[0m\u001b[1;33m\u001b[0m\u001b[0m\n",
      "\u001b[1;32m~\\Anaconda3\\lib\\site-packages\\urllib3\\connectionpool.py\u001b[0m in \u001b[0;36murlopen\u001b[1;34m(self, method, url, body, headers, retries, redirect, assert_same_host, timeout, pool_timeout, release_conn, chunked, body_pos, preload_content, decode_content, **response_kw)\u001b[0m\n\u001b[0;32m    789\u001b[0m \u001b[1;33m\u001b[0m\u001b[0m\n\u001b[0;32m    790\u001b[0m             \u001b[1;31m# Make the request on the HTTPConnection object\u001b[0m\u001b[1;33m\u001b[0m\u001b[1;33m\u001b[0m\u001b[0m\n\u001b[1;32m--> 791\u001b[1;33m             response = self._make_request(\n\u001b[0m\u001b[0;32m    792\u001b[0m                 \u001b[0mconn\u001b[0m\u001b[1;33m,\u001b[0m\u001b[1;33m\u001b[0m\u001b[1;33m\u001b[0m\u001b[0m\n\u001b[0;32m    793\u001b[0m                 \u001b[0mmethod\u001b[0m\u001b[1;33m,\u001b[0m\u001b[1;33m\u001b[0m\u001b[1;33m\u001b[0m\u001b[0m\n",
      "\u001b[1;32m~\\Anaconda3\\lib\\site-packages\\urllib3\\connectionpool.py\u001b[0m in \u001b[0;36m_make_request\u001b[1;34m(self, conn, method, url, body, headers, retries, timeout, chunked, response_conn, preload_content, decode_content, enforce_content_length)\u001b[0m\n\u001b[0;32m    535\u001b[0m         \u001b[1;31m# Receive the response from the server\u001b[0m\u001b[1;33m\u001b[0m\u001b[1;33m\u001b[0m\u001b[0m\n\u001b[0;32m    536\u001b[0m         \u001b[1;32mtry\u001b[0m\u001b[1;33m:\u001b[0m\u001b[1;33m\u001b[0m\u001b[1;33m\u001b[0m\u001b[0m\n\u001b[1;32m--> 537\u001b[1;33m             \u001b[0mresponse\u001b[0m \u001b[1;33m=\u001b[0m \u001b[0mconn\u001b[0m\u001b[1;33m.\u001b[0m\u001b[0mgetresponse\u001b[0m\u001b[1;33m(\u001b[0m\u001b[1;33m)\u001b[0m\u001b[1;33m\u001b[0m\u001b[1;33m\u001b[0m\u001b[0m\n\u001b[0m\u001b[0;32m    538\u001b[0m         \u001b[1;32mexcept\u001b[0m \u001b[1;33m(\u001b[0m\u001b[0mBaseSSLError\u001b[0m\u001b[1;33m,\u001b[0m \u001b[0mOSError\u001b[0m\u001b[1;33m)\u001b[0m \u001b[1;32mas\u001b[0m \u001b[0me\u001b[0m\u001b[1;33m:\u001b[0m\u001b[1;33m\u001b[0m\u001b[1;33m\u001b[0m\u001b[0m\n\u001b[0;32m    539\u001b[0m             \u001b[0mself\u001b[0m\u001b[1;33m.\u001b[0m\u001b[0m_raise_timeout\u001b[0m\u001b[1;33m(\u001b[0m\u001b[0merr\u001b[0m\u001b[1;33m=\u001b[0m\u001b[0me\u001b[0m\u001b[1;33m,\u001b[0m \u001b[0murl\u001b[0m\u001b[1;33m=\u001b[0m\u001b[0murl\u001b[0m\u001b[1;33m,\u001b[0m \u001b[0mtimeout_value\u001b[0m\u001b[1;33m=\u001b[0m\u001b[0mread_timeout\u001b[0m\u001b[1;33m)\u001b[0m\u001b[1;33m\u001b[0m\u001b[1;33m\u001b[0m\u001b[0m\n",
      "\u001b[1;32m~\\Anaconda3\\lib\\site-packages\\urllib3\\connection.py\u001b[0m in \u001b[0;36mgetresponse\u001b[1;34m(self)\u001b[0m\n\u001b[0;32m    459\u001b[0m \u001b[1;33m\u001b[0m\u001b[0m\n\u001b[0;32m    460\u001b[0m         \u001b[1;31m# Get the response from http.client.HTTPConnection\u001b[0m\u001b[1;33m\u001b[0m\u001b[1;33m\u001b[0m\u001b[0m\n\u001b[1;32m--> 461\u001b[1;33m         \u001b[0mhttplib_response\u001b[0m \u001b[1;33m=\u001b[0m \u001b[0msuper\u001b[0m\u001b[1;33m(\u001b[0m\u001b[1;33m)\u001b[0m\u001b[1;33m.\u001b[0m\u001b[0mgetresponse\u001b[0m\u001b[1;33m(\u001b[0m\u001b[1;33m)\u001b[0m\u001b[1;33m\u001b[0m\u001b[1;33m\u001b[0m\u001b[0m\n\u001b[0m\u001b[0;32m    462\u001b[0m \u001b[1;33m\u001b[0m\u001b[0m\n\u001b[0;32m    463\u001b[0m         \u001b[1;32mtry\u001b[0m\u001b[1;33m:\u001b[0m\u001b[1;33m\u001b[0m\u001b[1;33m\u001b[0m\u001b[0m\n",
      "\u001b[1;32m~\\Anaconda3\\lib\\http\\client.py\u001b[0m in \u001b[0;36mgetresponse\u001b[1;34m(self)\u001b[0m\n\u001b[0;32m   1375\u001b[0m         \u001b[1;32mtry\u001b[0m\u001b[1;33m:\u001b[0m\u001b[1;33m\u001b[0m\u001b[1;33m\u001b[0m\u001b[0m\n\u001b[0;32m   1376\u001b[0m             \u001b[1;32mtry\u001b[0m\u001b[1;33m:\u001b[0m\u001b[1;33m\u001b[0m\u001b[1;33m\u001b[0m\u001b[0m\n\u001b[1;32m-> 1377\u001b[1;33m                 \u001b[0mresponse\u001b[0m\u001b[1;33m.\u001b[0m\u001b[0mbegin\u001b[0m\u001b[1;33m(\u001b[0m\u001b[1;33m)\u001b[0m\u001b[1;33m\u001b[0m\u001b[1;33m\u001b[0m\u001b[0m\n\u001b[0m\u001b[0;32m   1378\u001b[0m             \u001b[1;32mexcept\u001b[0m \u001b[0mConnectionError\u001b[0m\u001b[1;33m:\u001b[0m\u001b[1;33m\u001b[0m\u001b[1;33m\u001b[0m\u001b[0m\n\u001b[0;32m   1379\u001b[0m                 \u001b[0mself\u001b[0m\u001b[1;33m.\u001b[0m\u001b[0mclose\u001b[0m\u001b[1;33m(\u001b[0m\u001b[1;33m)\u001b[0m\u001b[1;33m\u001b[0m\u001b[1;33m\u001b[0m\u001b[0m\n",
      "\u001b[1;32m~\\Anaconda3\\lib\\http\\client.py\u001b[0m in \u001b[0;36mbegin\u001b[1;34m(self)\u001b[0m\n\u001b[0;32m    318\u001b[0m         \u001b[1;31m# read until we get a non-100 response\u001b[0m\u001b[1;33m\u001b[0m\u001b[1;33m\u001b[0m\u001b[0m\n\u001b[0;32m    319\u001b[0m         \u001b[1;32mwhile\u001b[0m \u001b[1;32mTrue\u001b[0m\u001b[1;33m:\u001b[0m\u001b[1;33m\u001b[0m\u001b[1;33m\u001b[0m\u001b[0m\n\u001b[1;32m--> 320\u001b[1;33m             \u001b[0mversion\u001b[0m\u001b[1;33m,\u001b[0m \u001b[0mstatus\u001b[0m\u001b[1;33m,\u001b[0m \u001b[0mreason\u001b[0m \u001b[1;33m=\u001b[0m \u001b[0mself\u001b[0m\u001b[1;33m.\u001b[0m\u001b[0m_read_status\u001b[0m\u001b[1;33m(\u001b[0m\u001b[1;33m)\u001b[0m\u001b[1;33m\u001b[0m\u001b[1;33m\u001b[0m\u001b[0m\n\u001b[0m\u001b[0;32m    321\u001b[0m             \u001b[1;32mif\u001b[0m \u001b[0mstatus\u001b[0m \u001b[1;33m!=\u001b[0m \u001b[0mCONTINUE\u001b[0m\u001b[1;33m:\u001b[0m\u001b[1;33m\u001b[0m\u001b[1;33m\u001b[0m\u001b[0m\n\u001b[0;32m    322\u001b[0m                 \u001b[1;32mbreak\u001b[0m\u001b[1;33m\u001b[0m\u001b[1;33m\u001b[0m\u001b[0m\n",
      "\u001b[1;32m~\\Anaconda3\\lib\\http\\client.py\u001b[0m in \u001b[0;36m_read_status\u001b[1;34m(self)\u001b[0m\n\u001b[0;32m    279\u001b[0m \u001b[1;33m\u001b[0m\u001b[0m\n\u001b[0;32m    280\u001b[0m     \u001b[1;32mdef\u001b[0m \u001b[0m_read_status\u001b[0m\u001b[1;33m(\u001b[0m\u001b[0mself\u001b[0m\u001b[1;33m)\u001b[0m\u001b[1;33m:\u001b[0m\u001b[1;33m\u001b[0m\u001b[1;33m\u001b[0m\u001b[0m\n\u001b[1;32m--> 281\u001b[1;33m         \u001b[0mline\u001b[0m \u001b[1;33m=\u001b[0m \u001b[0mstr\u001b[0m\u001b[1;33m(\u001b[0m\u001b[0mself\u001b[0m\u001b[1;33m.\u001b[0m\u001b[0mfp\u001b[0m\u001b[1;33m.\u001b[0m\u001b[0mreadline\u001b[0m\u001b[1;33m(\u001b[0m\u001b[0m_MAXLINE\u001b[0m \u001b[1;33m+\u001b[0m \u001b[1;36m1\u001b[0m\u001b[1;33m)\u001b[0m\u001b[1;33m,\u001b[0m \u001b[1;34m\"iso-8859-1\"\u001b[0m\u001b[1;33m)\u001b[0m\u001b[1;33m\u001b[0m\u001b[1;33m\u001b[0m\u001b[0m\n\u001b[0m\u001b[0;32m    282\u001b[0m         \u001b[1;32mif\u001b[0m \u001b[0mlen\u001b[0m\u001b[1;33m(\u001b[0m\u001b[0mline\u001b[0m\u001b[1;33m)\u001b[0m \u001b[1;33m>\u001b[0m \u001b[0m_MAXLINE\u001b[0m\u001b[1;33m:\u001b[0m\u001b[1;33m\u001b[0m\u001b[1;33m\u001b[0m\u001b[0m\n\u001b[0;32m    283\u001b[0m             \u001b[1;32mraise\u001b[0m \u001b[0mLineTooLong\u001b[0m\u001b[1;33m(\u001b[0m\u001b[1;34m\"status line\"\u001b[0m\u001b[1;33m)\u001b[0m\u001b[1;33m\u001b[0m\u001b[1;33m\u001b[0m\u001b[0m\n",
      "\u001b[1;32m~\\Anaconda3\\lib\\socket.py\u001b[0m in \u001b[0;36mreadinto\u001b[1;34m(self, b)\u001b[0m\n\u001b[0;32m    702\u001b[0m         \u001b[1;32mwhile\u001b[0m \u001b[1;32mTrue\u001b[0m\u001b[1;33m:\u001b[0m\u001b[1;33m\u001b[0m\u001b[1;33m\u001b[0m\u001b[0m\n\u001b[0;32m    703\u001b[0m             \u001b[1;32mtry\u001b[0m\u001b[1;33m:\u001b[0m\u001b[1;33m\u001b[0m\u001b[1;33m\u001b[0m\u001b[0m\n\u001b[1;32m--> 704\u001b[1;33m                 \u001b[1;32mreturn\u001b[0m \u001b[0mself\u001b[0m\u001b[1;33m.\u001b[0m\u001b[0m_sock\u001b[0m\u001b[1;33m.\u001b[0m\u001b[0mrecv_into\u001b[0m\u001b[1;33m(\u001b[0m\u001b[0mb\u001b[0m\u001b[1;33m)\u001b[0m\u001b[1;33m\u001b[0m\u001b[1;33m\u001b[0m\u001b[0m\n\u001b[0m\u001b[0;32m    705\u001b[0m             \u001b[1;32mexcept\u001b[0m \u001b[0mtimeout\u001b[0m\u001b[1;33m:\u001b[0m\u001b[1;33m\u001b[0m\u001b[1;33m\u001b[0m\u001b[0m\n\u001b[0;32m    706\u001b[0m                 \u001b[0mself\u001b[0m\u001b[1;33m.\u001b[0m\u001b[0m_timeout_occurred\u001b[0m \u001b[1;33m=\u001b[0m \u001b[1;32mTrue\u001b[0m\u001b[1;33m\u001b[0m\u001b[1;33m\u001b[0m\u001b[0m\n",
      "\u001b[1;31mKeyboardInterrupt\u001b[0m: "
     ]
    }
   ],
   "source": [
    "for _, row in views_df.iterrows():\n",
    "    view_id = row['id']\n",
    "    workbook_id = row['workbook_id']\n",
    "    try:\n",
    "        view_details = get_view_details(conn, view_id)\n",
    "        workbook_content = get_workbook_content(conn, workbook_id)\n",
    "        # Extract specific chart type information\n",
    "        chart_type = extract_chart_type(view_details)\n",
    "        chart_types.append(chart_type)\n",
    "    except Exception as e:\n",
    "        print(f\"Error fetching details for view ID {view_id}: {e}\")\n",
    "        chart_types.append('Unknown')\n",
    "\n",
    "# Append the detailed chart type to the DataFrame\n",
    "views_df['chart_type'] = chart_types\n",
    "\n",
    "print('Views extracted and passed to the main function')"
   ]
  },
  {
   "cell_type": "code",
   "execution_count": null,
   "id": "e445743a",
   "metadata": {},
   "outputs": [],
   "source": [
    "views_df"
   ]
  },
  {
   "cell_type": "code",
   "execution_count": null,
   "id": "ff2e81b5",
   "metadata": {},
   "outputs": [],
   "source": []
  },
  {
   "cell_type": "code",
   "execution_count": null,
   "id": "9526891b",
   "metadata": {},
   "outputs": [],
   "source": []
  },
  {
   "cell_type": "code",
   "execution_count": null,
   "id": "0a990900",
   "metadata": {},
   "outputs": [],
   "source": []
  }
 ],
 "metadata": {
  "kernelspec": {
   "display_name": "Python 3 (ipykernel)",
   "language": "python",
   "name": "python3"
  },
  "language_info": {
   "codemirror_mode": {
    "name": "ipython",
    "version": 3
   },
   "file_extension": ".py",
   "mimetype": "text/x-python",
   "name": "python",
   "nbconvert_exporter": "python",
   "pygments_lexer": "ipython3",
   "version": "3.9.13"
  }
 },
 "nbformat": 4,
 "nbformat_minor": 5
}
