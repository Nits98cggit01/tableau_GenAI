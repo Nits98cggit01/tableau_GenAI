{
 "cells": [
  {
   "cell_type": "code",
   "execution_count": 7,
   "id": "58e76cb4",
   "metadata": {},
   "outputs": [
    {
     "name": "stdout",
     "output_type": "stream",
     "text": [
      "Collecting tableau-api-lib\n",
      "  Downloading tableau_api_lib-0.1.50-py3-none-any.whl (144 kB)\n",
      "     -------------------------------------- 144.0/144.0 kB 2.2 MB/s eta 0:00:00\n",
      "Requirement already satisfied: packaging in c:\\users\\nitins\\anaconda3\\lib\\site-packages (from tableau-api-lib) (23.2)\n",
      "Requirement already satisfied: pandas in c:\\users\\nitins\\anaconda3\\lib\\site-packages (from tableau-api-lib) (2.2.0)\n",
      "Requirement already satisfied: urllib3 in c:\\users\\nitins\\anaconda3\\lib\\site-packages (from tableau-api-lib) (2.0.7)\n",
      "Collecting typeguard\n",
      "  Downloading typeguard-4.3.0-py3-none-any.whl (35 kB)\n",
      "Requirement already satisfied: bleach>=3.0 in c:\\users\\nitins\\anaconda3\\lib\\site-packages (from tableau-api-lib) (4.1.0)\n",
      "Requirement already satisfied: requests>2 in c:\\users\\nitins\\anaconda3\\lib\\site-packages (from tableau-api-lib) (2.32.3)\n",
      "Collecting requests-toolbelt>=0.9.0\n",
      "  Using cached requests_toolbelt-1.0.0-py2.py3-none-any.whl (54 kB)\n",
      "Requirement already satisfied: six>=1.9.0 in c:\\users\\nitins\\anaconda3\\lib\\site-packages (from bleach>=3.0->tableau-api-lib) (1.16.0)\n",
      "Requirement already satisfied: webencodings in c:\\users\\nitins\\anaconda3\\lib\\site-packages (from bleach>=3.0->tableau-api-lib) (0.5.1)\n",
      "Requirement already satisfied: certifi>=2017.4.17 in c:\\users\\nitins\\anaconda3\\lib\\site-packages (from requests>2->tableau-api-lib) (2022.9.14)\n",
      "Requirement already satisfied: charset-normalizer<4,>=2 in c:\\users\\nitins\\anaconda3\\lib\\site-packages (from requests>2->tableau-api-lib) (2.0.4)\n",
      "Requirement already satisfied: idna<4,>=2.5 in c:\\users\\nitins\\anaconda3\\lib\\site-packages (from requests>2->tableau-api-lib) (3.3)\n",
      "Requirement already satisfied: tzdata>=2022.7 in c:\\users\\nitins\\anaconda3\\lib\\site-packages (from pandas->tableau-api-lib) (2023.4)\n",
      "Requirement already satisfied: pytz>=2020.1 in c:\\users\\nitins\\anaconda3\\lib\\site-packages (from pandas->tableau-api-lib) (2022.1)\n",
      "Requirement already satisfied: numpy<2,>=1.22.4 in c:\\users\\nitins\\anaconda3\\lib\\site-packages (from pandas->tableau-api-lib) (1.24.4)\n",
      "Requirement already satisfied: python-dateutil>=2.8.2 in c:\\users\\nitins\\anaconda3\\lib\\site-packages (from pandas->tableau-api-lib) (2.8.2)\n",
      "Requirement already satisfied: importlib-metadata>=3.6 in c:\\users\\nitins\\anaconda3\\lib\\site-packages (from typeguard->tableau-api-lib) (4.11.3)\n",
      "Requirement already satisfied: typing-extensions>=4.10.0 in c:\\users\\nitins\\anaconda3\\lib\\site-packages (from typeguard->tableau-api-lib) (4.10.0)\n",
      "Requirement already satisfied: zipp>=0.5 in c:\\users\\nitins\\anaconda3\\lib\\site-packages (from importlib-metadata>=3.6->typeguard->tableau-api-lib) (3.8.0)\n",
      "Installing collected packages: typeguard, requests-toolbelt, tableau-api-lib\n",
      "Successfully installed requests-toolbelt-1.0.0 tableau-api-lib-0.1.50 typeguard-4.3.0\n",
      "Note: you may need to restart the kernel to use updated packages.\n"
     ]
    }
   ],
   "source": [
    "pip install tableau-api-lib"
   ]
  },
  {
   "cell_type": "code",
   "execution_count": 9,
   "id": "a2c3201f",
   "metadata": {},
   "outputs": [],
   "source": [
    "import tableauserverclient as TSC\n",
    "import pandas as pd"
   ]
  },
  {
   "cell_type": "code",
   "execution_count": 15,
   "id": "8f41b164",
   "metadata": {},
   "outputs": [],
   "source": [
    "USERNAME = 'nitin.s@capgemini.com'\n",
    "PASSWORD = 'Nits98_tableau'\n",
    "SITE_NAME = 'https://prod-apnortheast-a.online.tableau.com/#/site/nitins9a29d4de43/views/Superstore/Overview'\n",
    "SERVER_URL = 'https://prod-apnortheast-a.online.tableau.com'"
   ]
  },
  {
   "cell_type": "code",
   "execution_count": 17,
   "id": "2257ae26",
   "metadata": {},
   "outputs": [],
   "source": [
    "# Create an authentication object\n",
    "tableau_auth = TSC.TableauAuth(USERNAME, PASSWORD, SITE_NAME)\n",
    "\n",
    "# Create a server object with the authentication details\n",
    "server = TSC.Server(SERVER_URL, use_server_version=True)\n",
    "\n",
    "# Enable logging to get detailed information about the process\n",
    "server.add_http_options({'verify': False, 'verbose': True})"
   ]
  },
  {
   "cell_type": "code",
   "execution_count": 18,
   "id": "4f17871c",
   "metadata": {},
   "outputs": [
    {
     "name": "stdout",
     "output_type": "stream",
     "text": [
      "An unexpected error occurred: request() got an unexpected keyword argument 'verbose'\n",
      "Trying with an empty site name...\n",
      "An unexpected error occurred: request() got an unexpected keyword argument 'verbose'\n"
     ]
    }
   ],
   "source": [
    "\n",
    "try:\n",
    "    # Attempt sign-in with the specified site name\n",
    "    with server.auth.sign_in(tableau_auth):\n",
    "        # Fetching all views for the site\n",
    "        all_views, pagination_item = server.views.get()\n",
    "        views_data = [{'View Name': view.name, 'Workbook': view.workbook_id, 'Project': view.project_id} for view in all_views]\n",
    "        views_df = pd.DataFrame(views_data)\n",
    "        print(\"Views:\")\n",
    "        print(views_df)\n",
    "        \n",
    "        # Fetching all data sources for the site\n",
    "        all_datasources, pagination_item = server.datasources.get()\n",
    "        datasources_data = [{'Data Source Name': ds.name, 'Project': ds.project_id, 'Created At': ds.created_at} for ds in all_datasources]\n",
    "        datasources_df = pd.DataFrame(datasources_data)\n",
    "        print(\"Data Sources:\")\n",
    "        print(datasources_df)\n",
    "\n",
    "except TSC.ServerResponseError as e:\n",
    "    print(f\"Server response error: {e}\")\n",
    "except TSC.NotSignedInError as e:\n",
    "    print(f\"Not signed in error: {e}\")\n",
    "except Exception as e:\n",
    "    print(f\"An unexpected error occurred: {e}\")\n",
    "\n",
    "# Try with an empty site name if the previous attempt fails\n",
    "if SITE_NAME:\n",
    "    print(\"Trying with an empty site name...\")\n",
    "    tableau_auth_empty_site = TSC.TableauAuth(USERNAME, PASSWORD, '')\n",
    "    try:\n",
    "        with server.auth.sign_in(tableau_auth_empty_site):\n",
    "            # Fetching all views for the site\n",
    "            all_views, pagination_item = server.views.get()\n",
    "            views_data = [{'View Name': view.name, 'Workbook': view.workbook_id, 'Project': view.project_id} for view in all_views]\n",
    "            views_df = pd.DataFrame(views_data)\n",
    "            print(\"Views:\")\n",
    "            print(views_df)\n",
    "            \n",
    "            # Fetching all data sources for the site\n",
    "            all_datasources, pagination_item = server.datasources.get()\n",
    "            datasources_data = [{'Data Source Name': ds.name, 'Project': ds.project_id, 'Created At': ds.created_at} for ds in all_datasources]\n",
    "            datasources_df = pd.DataFrame(datasources_data)\n",
    "            print(\"Data Sources:\")\n",
    "            print(datasources_df)\n",
    "    except TSC.ServerResponseError as e:\n",
    "        print(f\"Server response error: {e}\")\n",
    "    except TSC.NotSignedInError as e:\n",
    "        print(f\"Not signed in error: {e}\")\n",
    "    except Exception as e:\n",
    "        print(f\"An unexpected error occurred: {e}\")"
   ]
  },
  {
   "cell_type": "code",
   "execution_count": null,
   "id": "f1d7880d",
   "metadata": {},
   "outputs": [],
   "source": []
  },
  {
   "cell_type": "code",
   "execution_count": null,
   "id": "aec28192",
   "metadata": {},
   "outputs": [],
   "source": []
  },
  {
   "cell_type": "code",
   "execution_count": 13,
   "id": "4715ee41",
   "metadata": {},
   "outputs": [
    {
     "name": "stdout",
     "output_type": "stream",
     "text": [
      "Not signed in error: (b'<?xml version=\\'1.0\\' encoding=\\'UTF-8\\'?><tsResponse xmlns=\"http://tableau.com/api\" xmlns:xsi=\"http://www.w3.org/2001/XMLSchema-instance\" xsi:schemaLocation=\"http://tableau.com/api https://help.tableau.com/samples/en-us/rest_api/ts-api_3_22.xsd\"><error code=\"401001\"><summary>Signin Error</summary><detail>Error signing in to Tableau Server</detail></error></tsResponse>', 'https://prod-apnortheast-a.online.tableau.com/api/3.22/auth/signin')\n"
     ]
    }
   ],
   "source": [
    "try:\n",
    "    # Sign in to the server\n",
    "    with server.auth.sign_in(tableau_auth):\n",
    "        # Fetching all views for the site\n",
    "        all_views, pagination_item = server.views.get()\n",
    "        views_data = [{'View Name': view.name, 'Workbook': view.workbook_id, 'Project': view.project_id} for view in all_views]\n",
    "        views_df = pd.DataFrame(views_data)\n",
    "        print(\"Views:\")\n",
    "        print(views_df)\n",
    "        \n",
    "        # Fetching all data sources for the site\n",
    "        all_datasources, pagination_item = server.datasources.get()\n",
    "        datasources_data = [{'Data Source Name': ds.name, 'Project': ds.project_id, 'Created At': ds.created_at} for ds in all_datasources]\n",
    "        datasources_df = pd.DataFrame(datasources_data)\n",
    "        print(\"Data Sources:\")\n",
    "        print(datasources_df)\n",
    "except TSC.ServerResponseError as e:\n",
    "    print(f\"Server response error: {e}\")\n",
    "except TSC.NotSignedInError as e:\n",
    "    print(f\"Not signed in error: {e}\")\n",
    "except Exception as e:\n",
    "    print(f\"An unexpected error occurred: {e}\")"
   ]
  },
  {
   "cell_type": "code",
   "execution_count": 6,
   "id": "1a9ca808",
   "metadata": {},
   "outputs": [
    {
     "name": "stdout",
     "output_type": "stream",
     "text": [
      "\n",
      "There are 26 workbooks on 890Portal Tableau Server site.\n",
      "Processing workbook: CMO_Dashboard-WIP\n",
      "Processing workbook: CMO_Dashboard\n",
      "Processing workbook: Consolidated Cookbook\n",
      "An unexpected error occurred while processing view : Cannot save file into a non-existent directory: 'Rural'\n"
     ]
    }
   ],
   "source": [
    "def main():\n",
    "    USERNAME = \"TableauAdmin\"\n",
    "    PASSWORD = \"CapVpnCluster$20\"\n",
    "    portal= '890Portal'\n",
    "    SERVER_IP = 'http://10.100.252.218'\n",
    "    \n",
    "    ts = Tableau_Server(SERVER_IP, USERNAME, PASSWORD, portal)\n",
    "    \n",
    "    try:\n",
    "    # process all workbooks\n",
    "        ts.process_all_workbooks()\n",
    "    except Exception as e:\n",
    "        print(f\"An unexpected error occurred while processing view : {e}\")\n",
    "        pass\n",
    "    \n",
    "if __name__ == '__main__':\n",
    "    main()"
   ]
  },
  {
   "cell_type": "code",
   "execution_count": null,
   "id": "c448dd92",
   "metadata": {},
   "outputs": [],
   "source": []
  }
 ],
 "metadata": {
  "kernelspec": {
   "display_name": "Python 3 (ipykernel)",
   "language": "python",
   "name": "python3"
  },
  "language_info": {
   "codemirror_mode": {
    "name": "ipython",
    "version": 3
   },
   "file_extension": ".py",
   "mimetype": "text/x-python",
   "name": "python",
   "nbconvert_exporter": "python",
   "pygments_lexer": "ipython3",
   "version": "3.9.13"
  }
 },
 "nbformat": 4,
 "nbformat_minor": 5
}
